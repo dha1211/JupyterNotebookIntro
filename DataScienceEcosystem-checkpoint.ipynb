{
 "cells": [
  {
   "cell_type": "markdown",
   "id": "c2a941ef-9a8b-4571-a7c5-525c5ee1ca33",
   "metadata": {},
   "source": [
    "# Data Science Tools and Ecosystem\n"
   ]
  },
  {
   "cell_type": "markdown",
   "id": "ffea262d-3eb2-409a-a0ee-d96c9b7946bd",
   "metadata": {},
   "source": [
    "### some of the key takeaways from the course\n",
    "**Objectives:**\n",
    "* Scala\n",
    "* Python\n",
    "* C++\n",
    "* Java\n",
    "* R\n",
    "* Julia"
   ]
  },
  {
   "cell_type": "markdown",
   "id": "c5ac6791-f739-4dc6-b4e8-526b71ac72a3",
   "metadata": {},
   "source": [
    "### In this notebook, data science tools and ecosytem are summarized."
   ]
  },
  {
   "cell_type": "markdown",
   "id": "23c21202-ad73-42ed-9bfe-bfe41f635551",
   "metadata": {},
   "source": [
    "### some of the popular languages that data scientists use are:\n",
    "#### 1. Python\n",
    "#### 2. R\n",
    "#### 3. SQL"
   ]
  },
  {
   "cell_type": "markdown",
   "id": "2c563edb-917f-4850-9195-f8b70383f9c3",
   "metadata": {},
   "source": [
    "### Some of the commonly used libraries used by data scientists include:\n",
    "#### 1. Pandas\n",
    "#### 2. Numpy\n",
    "#### 3. MatPlotLib"
   ]
  },
  {
   "cell_type": "markdown",
   "id": "97fc6f06-0835-45c7-98dc-4a80ff854b45",
   "metadata": {},
   "source": [
    "|Data Science Tools|\n",
    "|---|\n",
    "|Jupyer Notebook|\n",
    "|Rstudio|\n",
    "|Spyder|"
   ]
  },
  {
   "cell_type": "markdown",
   "id": "261c41a0-2ab8-4176-a8ca-abf96cbbc7b3",
   "metadata": {},
   "source": [
    "### Below are a few examples of evaluating arithmetic expressions in Python:"
   ]
  },
  {
   "cell_type": "code",
   "execution_count": 2,
   "id": "4c1c4bc3-e489-46ab-b7eb-08c9d6461092",
   "metadata": {},
   "outputs": [],
   "source": [
    "#This a simple arithmetic expression to mutiply then add integers"
   ]
  },
  {
   "cell_type": "code",
   "execution_count": 3,
   "id": "84bdf731-36bb-40aa-8b91-34ed8e43330c",
   "metadata": {},
   "outputs": [
    {
     "data": {
      "text/plain": [
       "17"
      ]
     },
     "execution_count": 3,
     "metadata": {},
     "output_type": "execute_result"
    }
   ],
   "source": [
    "(3*4)+5"
   ]
  },
  {
   "cell_type": "code",
   "execution_count": 5,
   "id": "21fbf5b3-6f18-4777-83b3-d2478e948fa3",
   "metadata": {},
   "outputs": [],
   "source": [
    "#This will convert 200 minutes to hours by diving by 60"
   ]
  },
  {
   "cell_type": "code",
   "execution_count": 13,
   "id": "6d230a6d-51f3-4475-9eee-f53d120e1800",
   "metadata": {},
   "outputs": [
    {
     "name": "stdout",
     "output_type": "stream",
     "text": [
      "3hrs 20min\n"
     ]
    }
   ],
   "source": [
    "min=200\n",
    "hours=min//60\n",
    "m=min%60\n",
    "print(f\"{hours}hrs {m}min\")"
   ]
  },
  {
   "cell_type": "markdown",
   "id": "4d8f2637-ad81-4744-99a6-bd7c13ec46ca",
   "metadata": {},
   "source": [
    "## Author\n",
    "### Suraj"
   ]
  },
  {
   "cell_type": "code",
   "execution_count": null,
   "id": "665fd2f3-c310-45b8-820b-028b720bbe16",
   "metadata": {},
   "outputs": [],
   "source": []
  }
 ],
 "metadata": {
  "kernelspec": {
   "display_name": "Python 3 (ipykernel)",
   "language": "python",
   "name": "python3"
  },
  "language_info": {
   "codemirror_mode": {
    "name": "ipython",
    "version": 3
   },
   "file_extension": ".py",
   "mimetype": "text/x-python",
   "name": "python",
   "nbconvert_exporter": "python",
   "pygments_lexer": "ipython3",
   "version": "3.10.7"
  }
 },
 "nbformat": 4,
 "nbformat_minor": 5
}
